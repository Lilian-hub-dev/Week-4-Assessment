{
 "cells": [
  {
   "cell_type": "markdown",
   "id": "79624d1f",
   "metadata": {},
   "source": [
    "# question 8"
   ]
  },
  {
   "cell_type": "code",
   "execution_count": 23,
   "id": "922f1093",
   "metadata": {},
   "outputs": [],
   "source": [
    "import warnings\n",
    "import numpy as np"
   ]
  },
  {
   "cell_type": "code",
   "execution_count": 58,
   "id": "326f2a7c",
   "metadata": {},
   "outputs": [
    {
     "data": {
      "text/plain": [
       "array([2, 3, 1, 0, 6, 7])"
      ]
     },
     "execution_count": 58,
     "metadata": {},
     "output_type": "execute_result"
    }
   ],
   "source": [
    "p = np.array([2,3,1,0,6,7])\n",
    "p"
   ]
  },
  {
   "cell_type": "code",
   "execution_count": 59,
   "id": "6f5e1ac2",
   "metadata": {},
   "outputs": [
    {
     "name": "stdout",
     "output_type": "stream",
     "text": [
      "2 is Non-zero value\n",
      "3 is Non-zero value\n",
      "1 is Non-zero value\n",
      "0 is zero value\n",
      "6 is Non-zero value\n",
      "7 is Non-zero value\n"
     ]
    }
   ],
   "source": [
    "for index,item in enumerate(p):\n",
    "     if item!=0:\n",
    "         print(item, 'is Non-zero value')\n",
    "     else: \n",
    "        print(item, \"is zero value\")\n",
    "        "
   ]
  },
  {
   "cell_type": "markdown",
   "id": "2a44859c",
   "metadata": {},
   "source": [
    "# question 9"
   ]
  },
  {
   "cell_type": "code",
   "execution_count": 55,
   "id": "ae5815d3",
   "metadata": {},
   "outputs": [
    {
     "data": {
      "text/plain": [
       "array([  1.,   0.,  nan, -inf,  -2.,  inf])"
      ]
     },
     "execution_count": 55,
     "metadata": {},
     "output_type": "execute_result"
    }
   ],
   "source": [
    "a = np.array([1, 0, np.nan, np.NINF, -2, np.inf])\n",
    "a"
   ]
  },
  {
   "cell_type": "code",
   "execution_count": 56,
   "id": "cc939832",
   "metadata": {},
   "outputs": [
    {
     "name": "stdout",
     "output_type": "stream",
     "text": [
      "Testing array x element-wise for finiteness:\n",
      "[ True  True False False  True False]\n"
     ]
    }
   ],
   "source": [
    "print(\"Testing array x element-wise for finiteness:\")\n",
    "print(np.isfinite(a))"
   ]
  },
  {
   "cell_type": "code",
   "execution_count": 54,
   "id": "5b99e01c",
   "metadata": {},
   "outputs": [
    {
     "name": "stdout",
     "output_type": "stream",
     "text": [
      "Testing array x element-wise for positive or negative infinity:\n",
      "[False False False  True False  True]\n"
     ]
    }
   ],
   "source": [
    "m = np.array([1, 0, np.nan, np.NINF, -2, np.inf])\n",
    "m\n",
    "print(\"Testing array x element-wise for positive or negative infinity:\")\n",
    "print(np.isinf(m))"
   ]
  },
  {
   "cell_type": "markdown",
   "id": "2c8131ee",
   "metadata": {},
   "source": [
    "# question 10"
   ]
  },
  {
   "cell_type": "code",
   "execution_count": 53,
   "id": "45a3e6f2",
   "metadata": {},
   "outputs": [
    {
     "name": "stdout",
     "output_type": "stream",
     "text": [
      "Testing element-wise for not a number(NaN):\n",
      "[False False False False  True False False False]\n"
     ]
    }
   ],
   "source": [
    "z = np.array([1, 4.5, 0, 1j, np.nan, np.NINF, -2, np.inf])\n",
    "z\n",
    "print(\"Testing element-wise for not a number(NaN):\")\n",
    "print(np.isnan(z))"
   ]
  },
  {
   "cell_type": "code",
   "execution_count": 74,
   "id": "1e121ca3",
   "metadata": {},
   "outputs": [
    {
     "data": {
      "text/plain": [
       "array([  3.  +2.j ,   1.  +0.j ,   4.5 +0.j ,   0.  +0.j ,   3.  +0.j ,\n",
       "         2.  +0.j ,   0.  +2.j , 100.  +0.j ,   0. +26.5j])"
      ]
     },
     "execution_count": 74,
     "metadata": {},
     "output_type": "execute_result"
    }
   ],
   "source": [
    "x= np.array([3+2j, 1+0j, 4.5, 0, 3, 2, 2j, 100, 26.5j])\n",
    "x"
   ]
  },
  {
   "cell_type": "code",
   "execution_count": 70,
   "id": "be877f49",
   "metadata": {},
   "outputs": [
    {
     "name": "stdout",
     "output_type": "stream",
     "text": [
      "Testing for complex numbers in array:\n",
      "[ True False False False False False  True False  True]\n"
     ]
    }
   ],
   "source": [
    "print(\"Testing for complex numbers in array:\")\n",
    "print(np.iscomplex(x))"
   ]
  },
  {
   "cell_type": "code",
   "execution_count": 71,
   "id": "2dc6e806",
   "metadata": {},
   "outputs": [
    {
     "name": "stdout",
     "output_type": "stream",
     "text": [
      "Testing for real numbers in array:\n",
      "[False  True  True  True  True  True False  True False]\n"
     ]
    }
   ],
   "source": [
    "print(\"Testing for real numbers in array:\")\n",
    "print(np.isreal(x))"
   ]
  },
  {
   "cell_type": "code",
   "execution_count": 72,
   "id": "00baa48f",
   "metadata": {},
   "outputs": [
    {
     "name": "stdout",
     "output_type": "stream",
     "text": [
      "Testing for scalar in array:\n",
      "True\n",
      "True\n",
      "True\n",
      "True\n",
      "True\n",
      "True\n",
      "True\n",
      "True\n",
      "True\n"
     ]
    }
   ],
   "source": [
    "print(\"Testing for scalar in array:\")\n",
    "for index,item in enumerate(x):\n",
    "    print(isinstance(item, np.generic))"
   ]
  },
  {
   "cell_type": "markdown",
   "id": "60a6c112",
   "metadata": {},
   "source": [
    "# question 11"
   ]
  },
  {
   "cell_type": "code",
   "execution_count": 81,
   "id": "63d300b9",
   "metadata": {},
   "outputs": [
    {
     "name": "stdout",
     "output_type": "stream",
     "text": [
      "[[ 1  2  3]\n",
      " [20 30 40]\n",
      " [ 4  5  6]]\n",
      " \n",
      " \n",
      "[[ 0  1  2]\n",
      " [10 15 20]\n",
      " [11 12 13]]\n"
     ]
    }
   ],
   "source": [
    "element1 = np.array([[1,2,3], [20,30,40], [4,5,6]] )\n",
    "element2 = np.array([[0,1,2], [10,15,20], [11,12,13]])\n",
    "print(element1)\n",
    "print(\" \\n \")\n",
    "print(element2)"
   ]
  },
  {
   "cell_type": "code",
   "execution_count": 82,
   "id": "d1129d8f",
   "metadata": {},
   "outputs": [
    {
     "data": {
      "text/plain": [
       "False"
      ]
     },
     "execution_count": 82,
     "metadata": {},
     "output_type": "execute_result"
    }
   ],
   "source": [
    "np.array_equal(element1,element2)"
   ]
  },
  {
   "cell_type": "code",
   "execution_count": 83,
   "id": "30c384fd",
   "metadata": {},
   "outputs": [
    {
     "data": {
      "text/plain": [
       "False"
      ]
     },
     "execution_count": 83,
     "metadata": {},
     "output_type": "execute_result"
    }
   ],
   "source": [
    "np.array_equiv(element1,element2)"
   ]
  },
  {
   "cell_type": "code",
   "execution_count": 84,
   "id": "0212106c",
   "metadata": {},
   "outputs": [
    {
     "data": {
      "text/plain": [
       "False"
      ]
     },
     "execution_count": 84,
     "metadata": {},
     "output_type": "execute_result"
    }
   ],
   "source": [
    "np.allclose(element1,element2)"
   ]
  },
  {
   "cell_type": "code",
   "execution_count": 97,
   "id": "3585e0c9",
   "metadata": {},
   "outputs": [
    {
     "name": "stdout",
     "output_type": "stream",
     "text": [
      "[ 10  -2 -30  40  50  60  70 -80]\n",
      " \n",
      " \n",
      "[ 20  -5 -10  10  50  60  10 -60]\n"
     ]
    }
   ],
   "source": [
    "lilian = np.array([10, -2, -30, 40, 50, 60, 70, -80])\n",
    "owino = np.array([20, -5, -10, 10, 50, 60, 10, -60])\n",
    "print(lilian)\n",
    "print(\" \\n \")\n",
    "print(owino)"
   ]
  },
  {
   "cell_type": "code",
   "execution_count": 98,
   "id": "ea603e97",
   "metadata": {},
   "outputs": [
    {
     "name": "stdout",
     "output_type": "stream",
     "text": [
      "Array lilian:  [ 10  -2 -30  40  50  60  70 -80]\n",
      "Array owino:  [ 20  -5 -10  10  50  60  10 -60]\n",
      "lilian > owino\n",
      "[False  True False  True False False  True False]\n"
     ]
    }
   ],
   "source": [
    "print(\"Array lilian: \", lilian)\n",
    "print(\"Array owino: \", owino)\n",
    "print(\"lilian > owino\")\n",
    "print(np.greater(lilian, owino))"
   ]
  },
  {
   "cell_type": "code",
   "execution_count": 100,
   "id": "67dc3502",
   "metadata": {},
   "outputs": [
    {
     "name": "stdout",
     "output_type": "stream",
     "text": [
      "lilian >= owino\n",
      "[False  True False  True  True  True  True False]\n"
     ]
    }
   ],
   "source": [
    "print(\"lilian >= owino\")\n",
    "print(np.greater_equal(lilian, owino))"
   ]
  },
  {
   "cell_type": "code",
   "execution_count": 101,
   "id": "a3381cfe",
   "metadata": {},
   "outputs": [
    {
     "name": "stdout",
     "output_type": "stream",
     "text": [
      "lilian < owino\n",
      "[ True False  True False False False False  True]\n"
     ]
    }
   ],
   "source": [
    "print(\"lilian < owino\")\n",
    "print(np.less(lilian, owino))"
   ]
  },
  {
   "cell_type": "code",
   "execution_count": 102,
   "id": "f840e5b2",
   "metadata": {},
   "outputs": [
    {
     "name": "stdout",
     "output_type": "stream",
     "text": [
      "lilian <= owino\n",
      "[ True False  True False  True  True False  True]\n"
     ]
    }
   ],
   "source": [
    "print(\"lilian <= owino\")\n",
    "print(np.less_equal(lilian,owino))"
   ]
  },
  {
   "cell_type": "code",
   "execution_count": 103,
   "id": "12a0cbed",
   "metadata": {},
   "outputs": [
    {
     "name": "stdout",
     "output_type": "stream",
     "text": [
      "lilian %= owino\n",
      "[ True  True  True  True False False  True  True]\n"
     ]
    }
   ],
   "source": [
    "print('lilian %= owino')\n",
    "print(np.not_equal(lilian, owino))"
   ]
  },
  {
   "cell_type": "markdown",
   "id": "d0487b26",
   "metadata": {},
   "source": [
    "# question 12"
   ]
  },
  {
   "cell_type": "code",
   "execution_count": 110,
   "id": "1a0c7150",
   "metadata": {},
   "outputs": [
    {
     "data": {
      "text/plain": [
       "True"
      ]
     },
     "execution_count": 110,
     "metadata": {},
     "output_type": "execute_result"
    }
   ],
   "source": [
    "p = np.array([[3,7,5], [8,4,3], [2,4,9]])\n",
    "q = np.array([[3,7,5], [8,4,3], [2,4,9]])\n",
    "np.array_equal(p, q)"
   ]
  },
  {
   "cell_type": "code",
   "execution_count": 111,
   "id": "7d6da306",
   "metadata": {},
   "outputs": [
    {
     "data": {
      "text/plain": [
       "True"
      ]
     },
     "execution_count": 111,
     "metadata": {},
     "output_type": "execute_result"
    }
   ],
   "source": [
    "np.allclose(p, q)"
   ]
  },
  {
   "cell_type": "code",
   "execution_count": 112,
   "id": "c96153d9",
   "metadata": {},
   "outputs": [
    {
     "data": {
      "text/plain": [
       "True"
      ]
     },
     "execution_count": 112,
     "metadata": {},
     "output_type": "execute_result"
    }
   ],
   "source": [
    "np.array_equiv(p, q)"
   ]
  },
  {
   "cell_type": "code",
   "execution_count": 117,
   "id": "4142f296",
   "metadata": {},
   "outputs": [
    {
     "data": {
      "text/plain": [
       "array([  1,   7,  13, 105])"
      ]
     },
     "execution_count": 117,
     "metadata": {},
     "output_type": "execute_result"
    }
   ],
   "source": [
    "tech = np.array([1, 7, 13, 105])\n",
    "tech"
   ]
  },
  {
   "cell_type": "code",
   "execution_count": 118,
   "id": "6072fd2b",
   "metadata": {},
   "outputs": [
    {
     "name": "stdout",
     "output_type": "stream",
     "text": [
      "16 bytes\n"
     ]
    }
   ],
   "source": [
    "print(\"%d bytes\" %(tech.size * tech.itemsize))"
   ]
  },
  {
   "cell_type": "code",
   "execution_count": null,
   "id": "f043f28b",
   "metadata": {},
   "outputs": [],
   "source": []
  }
 ],
 "metadata": {
  "kernelspec": {
   "display_name": "Python 3",
   "language": "python",
   "name": "python3"
  },
  "language_info": {
   "codemirror_mode": {
    "name": "ipython",
    "version": 3
   },
   "file_extension": ".py",
   "mimetype": "text/x-python",
   "name": "python",
   "nbconvert_exporter": "python",
   "pygments_lexer": "ipython3",
   "version": "3.8.8"
  }
 },
 "nbformat": 4,
 "nbformat_minor": 5
}
